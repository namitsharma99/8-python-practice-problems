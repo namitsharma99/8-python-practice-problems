{
 "cells": [
  {
   "cell_type": "markdown",
   "metadata": {},
   "source": [
    "# 1. Given a number, find the sum of its digits. Take the number as an input from the user."
   ]
  },
  {
   "cell_type": "code",
   "execution_count": 10,
   "metadata": {},
   "outputs": [
    {
     "name": "stdout",
     "output_type": "stream",
     "text": [
      "enter the number 11\n",
      "enter the number 22\n",
      "3\n"
     ]
    }
   ],
   "source": [
    "num1 = input('enter the number 1')\n",
    "num2 = input('enter the number 2')\n",
    "print(int(num1)+int(num2))"
   ]
  },
  {
   "cell_type": "code",
   "execution_count": 13,
   "metadata": {},
   "outputs": [
    {
     "name": "stdout",
     "output_type": "stream",
     "text": [
      "enter the number 13\n",
      "enter the number 24\n",
      "7\n"
     ]
    }
   ],
   "source": [
    "sum = 0\n",
    "sum = int(input('enter the number 1'))\n",
    "sum += int(input('enter the number 2'))\n",
    "print(sum)"
   ]
  },
  {
   "cell_type": "markdown",
   "metadata": {},
   "source": [
    "# 2. Given a number, check whether the given number is an Armstrong number or not. A positive integer is called an Armstrong number of order n if:\n",
    "abcd... = an + bn + cn + dn + ...\n",
    "Example: 153 = 1*1*1 + 5*5*5 + 3*3*3 153 is an Armstrong number of order 3.\n",
    "Inputs from the user will be number and order n."
   ]
  },
  {
   "cell_type": "code",
   "execution_count": 30,
   "metadata": {
    "scrolled": true
   },
   "outputs": [
    {
     "name": "stdout",
     "output_type": "stream",
     "text": [
      "enter the number:153\n",
      "['1', '5', '3']\n",
      "char=1\n",
      "cubeSum=1\n",
      "char=5\n",
      "cubeSum=126\n",
      "char=3\n",
      "cubeSum=153\n",
      "Armstrong\n"
     ]
    }
   ],
   "source": [
    "num = input('enter the number:')\n",
    "arr = []\n",
    "arr[:] = num\n",
    "print(arr)\n",
    "sum = 0\n",
    "for char in num:\n",
    "    print('char='+ char)\n",
    "    i = int(char)\n",
    "    sum += i*i*i\n",
    "    print('cubeSum=' + str(sum))\n",
    "\n",
    "if(int(num) == sum):\n",
    "    print('Armstrong')\n",
    "else:\n",
    "    print('Not Armstrong')"
   ]
  },
  {
   "cell_type": "code",
   "execution_count": 33,
   "metadata": {},
   "outputs": [
    {
     "name": "stdout",
     "output_type": "stream",
     "text": [
      "enter the number:153\n",
      "enter the order:3\n",
      "['1', '5', '3']\n",
      "char=1\n",
      "sum=1\n",
      "char=5\n",
      "sum=126\n",
      "char=3\n",
      "sum=153\n",
      "Armstrong\n"
     ]
    }
   ],
   "source": [
    "num = input('enter the number:')\n",
    "order = input('enter the order:')\n",
    "print(arr)\n",
    "sum = 0\n",
    "for char in num:\n",
    "    print('char='+ char)\n",
    "    sum += int(char)**int(order)\n",
    "    print('sum=' + str(sum))\n",
    "\n",
    "if(int(num) == sum):\n",
    "    print('Armstrong')\n",
    "else:\n",
    "    print('Not Armstrong')"
   ]
  },
  {
   "cell_type": "markdown",
   "metadata": {},
   "source": [
    "# 3. Given a string, write a python function to check if it is palindrome or not. A string is said to be palindrome if the reverse of the string is the same as string. For example, “malayalam” is a palindrome, but “music” is not a palindrome."
   ]
  },
  {
   "cell_type": "code",
   "execution_count": 53,
   "metadata": {},
   "outputs": [
    {
     "name": "stdout",
     "output_type": "stream",
     "text": [
      "enter the string:nnaaaaann\n",
      "palindrome\n"
     ]
    }
   ],
   "source": [
    "str = input('enter the string:')\n",
    "#print(len(str))\n",
    "length = len(str)\n",
    "i = 0\n",
    "flag = bool(1) \n",
    "for char in str:\n",
    "    i += 1\n",
    "    #print('char = ' + char)\n",
    "    #print('str[length-i]' + str[length-i])\n",
    "    if (length-i >= length/2) & (char != str[length-i]):\n",
    "        flag = bool(0)\n",
    "        print(flag)\n",
    "        break\n",
    "if (flag):\n",
    "    print('palindrome')\n",
    "else:\n",
    "    print('not a palindrome')\n",
    "\n"
   ]
  },
  {
   "cell_type": "code",
   "execution_count": 50,
   "metadata": {},
   "outputs": [
    {
     "name": "stdout",
     "output_type": "stream",
     "text": [
      "enter the string:nnaaann\n",
      "palindrome\n"
     ]
    }
   ],
   "source": [
    "# txt = \"Hello World\" [::-1]\n",
    "str = input('enter the string:')\n",
    "revStr = str[::-1]\n",
    "\n",
    "if (str == revStr):\n",
    "    print('palindrome')\n",
    "else:\n",
    "    print('not a palindrome')\n"
   ]
  },
  {
   "cell_type": "markdown",
   "metadata": {},
   "source": [
    "# 4. Given an array which may contain duplicates, print all elements and their frequencies."
   ]
  },
  {
   "cell_type": "code",
   "execution_count": 67,
   "metadata": {},
   "outputs": [
    {
     "name": "stdout",
     "output_type": "stream",
     "text": [
      "enter the string:saadffdfafads\n",
      "{'s': 2, 'a': 4, 'd': 3, 'f': 4}\n"
     ]
    }
   ],
   "source": [
    "str = input('enter the string:')\n",
    "dict = {}\n",
    "for char in str:\n",
    "    if char in dict:\n",
    "        dict.__setitem__(char,dict.get(char) + 1)\n",
    "    else:\n",
    "        dict.__setitem__(char,1)\n",
    "\n",
    "print(dict)\n"
   ]
  },
  {
   "cell_type": "markdown",
   "metadata": {},
   "source": [
    "# 5. Given a number n, write a function to print all prime factors of n. For example, if the input number is 12, then output should be “2 2 3”.\n",
    "\n",
    "Suppose n is not a prime number (greater than 1). So there are numbers a and b such that\n",
    "\n",
    "n = ab      (1 < a <= b < n)\n",
    "By multiplying the relation a<=b by a and b we get:\n",
    "\n",
    "a^2 <= ab\n",
    " ab <= b^2\n",
    "Therefore: (note that n=ab)\n",
    "\n",
    "a^2 <= n <= b^2\n",
    "Hence: (Note that a and b are positive)\n",
    "\n",
    "a <= sqrt(n) <= b\n",
    "So if a number (greater than 1) is not prime and we test divisibility up to square root of the number, we will find one of the factors."
   ]
  },
  {
   "cell_type": "code",
   "execution_count": 83,
   "metadata": {},
   "outputs": [
    {
     "name": "stdout",
     "output_type": "stream",
     "text": [
      "2\n",
      "2\n",
      "5\n",
      "5\n"
     ]
    }
   ],
   "source": [
    "import math\n",
    "\n",
    "def findPrimeFactors(n):\n",
    "    while n % 2 == 0:\n",
    "        print(2)\n",
    "        n = n / 2\n",
    "    \n",
    "    for i in range(3,int(math.sqrt(n))+1,2):\n",
    "        while n % i== 0:\n",
    "            print(i)\n",
    "            n = n / i\n",
    "    \n",
    "    if n > 2:\n",
    "        print(n)\n",
    "\n",
    "\n",
    "\n",
    "findPrimeFactors(100)\n"
   ]
  },
  {
   "cell_type": "markdown",
   "metadata": {},
   "source": [
    "# 6. Given two numbers n and r, find the value of nCr (binomial coefficient: nCr = (n!) / (r! * (n-r)!))"
   ]
  },
  {
   "cell_type": "code",
   "execution_count": 97,
   "metadata": {},
   "outputs": [
    {
     "name": "stdout",
     "output_type": "stream",
     "text": [
      "6.0\n"
     ]
    }
   ],
   "source": [
    "def fact(num):\n",
    "    n = int(num)\n",
    "    if n <= 1:\n",
    "        return 1\n",
    "    else:\n",
    "        return n*fact(n-1)\n",
    "    \n",
    "\n",
    "#print(fact(int(5)))\n",
    "\n",
    "n = 4\n",
    "r = 2\n",
    "\n",
    "coeff = fact(n) / (fact(r) * fact(n-r))\n",
    "print(coeff)\n"
   ]
  },
  {
   "cell_type": "markdown",
   "metadata": {},
   "source": [
    "# 7. Searching: Given a sorted array arr[] of n elements, write a function to search a given element x in arr[]. Do it using linear and binary search techniques."
   ]
  },
  {
   "cell_type": "code",
   "execution_count": 133,
   "metadata": {},
   "outputs": [
    {
     "name": "stdout",
     "output_type": "stream",
     "text": [
      "Not Found!\n"
     ]
    }
   ],
   "source": [
    "arr = [1,2,3,4,5]\n",
    "n = 323\n",
    "\n",
    "def func(arr, n):\n",
    "    flag = bool(0)\n",
    "    for i in arr:\n",
    "        if(i == n):\n",
    "            flag = bool(1)\n",
    "            break\n",
    "    if (flag):   \n",
    "        print('Found!!')\n",
    "    else:\n",
    "        print('Not Found!')\n",
    "        \n",
    "def funcBin(arr, mn, mx, n):\n",
    "    mid = (mn + mx)/2\n",
    "#     print('mid - ')\n",
    "#     print(mid)\n",
    "#     print('mn - ')\n",
    "#     print(mn)\n",
    "#     print('mx - ')\n",
    "#     print(mx)\n",
    "#     print('============')\n",
    "    if (arr[int(mid)] == n):\n",
    "        print('Found!!')\n",
    "    elif (n > arr[int(mid)] & mn <= mx & mx < len(arr)):\n",
    "        mn = int(mid + 1)\n",
    "#         print('min - ')\n",
    "#         print(mn)\n",
    "        funcBin(arr, mn, mx, n)\n",
    "    elif (n < arr[int(mid)] & mn <= mx & mx < len(arr)):\n",
    "        mx = int(mid - 1)\n",
    "#         print('max - ')\n",
    "#         print(mx)\n",
    "        funcBin(arr, mn, mx, n)\n",
    "        \n",
    "\n",
    "\n",
    "func(arr, n)\n",
    "funcBin(arr, 0, 4, n)\n"
   ]
  },
  {
   "cell_type": "markdown",
   "metadata": {},
   "source": [
    "# 8. Input a text file (containing 1 or more paragraphs of English text) from the user, parse this file to display the frequency of occurrence of each word in this text file. Find the 3 most frequent words as well."
   ]
  },
  {
   "cell_type": "code",
   "execution_count": 149,
   "metadata": {},
   "outputs": [
    {
     "name": "stdout",
     "output_type": "stream",
     "text": [
      "{'Namit': 4, 'Sharma': 1, 'Vats': 1, 'namitsha': 1, 'cisco': 1, 'infosys': 1, 'test': 2, 'data': 2, 'Namit,,': 1, 'NAmit': 1}\n"
     ]
    }
   ],
   "source": [
    "with open('/Users/namitsha/Downloads/testData.txt', 'r') as file:\n",
    "    lines = file.readlines()\n",
    "\n",
    "dict = {}\n",
    "\n",
    "for line in lines:\n",
    "    #s = line\n",
    "    #print(s)\n",
    "    words = line.split(' ')\n",
    "    for word in words:\n",
    "        #print(word)\n",
    "        if word.strip():\n",
    "            if word.strip() in dict:\n",
    "                #print('Updating ' + word.strip())\n",
    "                dict.__setitem__(word.strip(),dict.get(word.strip()) + 1)\n",
    "            else:\n",
    "                #print('Adding ' + word.strip())\n",
    "                dict.__setitem__(word.strip(),1)\n",
    "            \n",
    "\n",
    "print(dict)\n",
    "\n",
    "    "
   ]
  },
  {
   "cell_type": "code",
   "execution_count": null,
   "metadata": {},
   "outputs": [],
   "source": []
  }
 ],
 "metadata": {
  "kernelspec": {
   "display_name": "Python 3",
   "language": "python",
   "name": "python3"
  },
  "language_info": {
   "codemirror_mode": {
    "name": "ipython",
    "version": 3
   },
   "file_extension": ".py",
   "mimetype": "text/x-python",
   "name": "python",
   "nbconvert_exporter": "python",
   "pygments_lexer": "ipython3",
   "version": "3.8.3"
  }
 },
 "nbformat": 4,
 "nbformat_minor": 4
}
